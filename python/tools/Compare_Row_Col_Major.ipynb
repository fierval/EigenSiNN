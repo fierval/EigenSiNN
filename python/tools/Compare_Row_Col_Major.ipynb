{
 "cells": [
  {
   "cell_type": "markdown",
   "metadata": {},
   "source": [
    "# Compare Row Major and Col Major Layouts"
   ]
  },
  {
   "cell_type": "code",
   "execution_count": 2,
   "metadata": {},
   "outputs": [],
   "source": [
    "import numpy as np\r\n",
    "import re\r\n",
    "import os"
   ]
  },
  {
   "cell_type": "markdown",
   "metadata": {},
   "source": [
    "## Files to compare (debug output from Visual Studio)"
   ]
  },
  {
   "cell_type": "code",
   "execution_count": 3,
   "metadata": {},
   "outputs": [],
   "source": [
    "f_colmajor = r\"c:/temp/im2colcolmajor.txt\"\r\n",
    "f_rowmajor = r\"c:/temp/im2colrowomajor.txt\""
   ]
  },
  {
   "cell_type": "code",
   "execution_count": 4,
   "metadata": {},
   "outputs": [],
   "source": [
    "def from_file_to_array(fn, dims):\r\n",
    "  \r\n",
    "  regex = r\"[0-9]*\\.[0-9]+\"\r\n",
    "  vals = []\r\n",
    "  with open(fn, \"r\") as f:\r\n",
    "    for l in f:\r\n",
    "      num = re.findall(regex, l)\r\n",
    "      if len(num) > 0:\r\n",
    "        vals.append(float(num[0]))\r\n",
    "  \r\n",
    "  avals = np.array(vals, dtype=float)\r\n",
    "  avals = avals.reshape(dims)\r\n",
    "  return avals\r\n"
   ]
  },
  {
   "cell_type": "code",
   "execution_count": 21,
   "metadata": {},
   "outputs": [],
   "source": [
    "def are_row_col_major_same(fn_colmajor, fn_rowmajor, dims):\r\n",
    "\r\n",
    "  avals_rowmajor = from_file_to_array(fn_rowmajor, dims)\r\n",
    "  avals_colmajor = from_file_to_array(fn_colmajor, dims[::-1])\r\n",
    "  avals_colmajor = avals_colmajor.transpose(list(range(len(dims)))[::-1])\r\n",
    "\r\n",
    "  return np.all(avals_colmajor == avals_rowmajor)"
   ]
  },
  {
   "cell_type": "code",
   "execution_count": 22,
   "metadata": {},
   "outputs": [
    {
     "data": {
      "text/plain": "True"
     },
     "execution_count": 22,
     "metadata": {},
     "output_type": "execute_result"
    }
   ],
   "source": [
    "are_row_col_major_same(f_colmajor, f_rowmajor, (27, 8))"
   ]
  },
  {
   "cell_type": "code",
   "execution_count": null,
   "metadata": {},
   "outputs": [],
   "source": []
  }
 ],
 "metadata": {
  "kernelspec": {
   "display_name": "Python 3.8.5 64-bit ('eigensinn': conda)",
   "name": "python385jvsc74a57bd065e3d6ff91a275e814dea489810b7b532d308d30ffb2163137522335a08b3065"
  },
  "language_info": {
   "codemirror_mode": {
    "name": "ipython",
    "version": 3
   },
   "file_extension": ".py",
   "mimetype": "text/x-python",
   "name": "python",
   "nbconvert_exporter": "python",
   "pygments_lexer": "ipython3",
   "version": "3.8.5"
  },
  "orig_nbformat": 2
 },
 "nbformat": 4,
 "nbformat_minor": 2
}