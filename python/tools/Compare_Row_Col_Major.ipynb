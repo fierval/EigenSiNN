{
 "cells": [
  {
   "cell_type": "markdown",
   "metadata": {},
   "source": [
    "# Compare Row Major and Col Major Layouts"
   ]
  },
  {
   "cell_type": "code",
   "execution_count": 2,
   "metadata": {},
   "outputs": [],
   "source": [
    "import numpy as np\r\n",
    "import re\r\n",
    "import os"
   ]
  },
  {
   "cell_type": "markdown",
   "metadata": {},
   "source": [
    "## Files to compare (debug output from Visual Studio)"
   ]
  },
  {
   "cell_type": "code",
   "execution_count": 31,
   "metadata": {},
   "outputs": [],
   "source": [
    "fn_colmajor = r\"c:/temp/col.txt\"\r\n",
    "fn_rowmajor = r\"c:/temp/row.txt\""
   ]
  },
  {
   "cell_type": "code",
   "execution_count": 119,
   "metadata": {},
   "outputs": [],
   "source": [
    "def from_file_to_array(fn, dims, order):\r\n",
    "  \r\n",
    "  regex = r\"[0-9]*\\.[0-9]+\"\r\n",
    "  vals = []\r\n",
    "  with open(fn, \"r\") as f:\r\n",
    "    for l in f:\r\n",
    "      num = re.findall(regex, l)\r\n",
    "      if len(num) > 0:\r\n",
    "        vals.append(float(num[0]))\r\n",
    "  \r\n",
    "  avals = np.array(vals, dtype=float)\r\n",
    "  avals = avals.reshape(dims, order=order)\r\n",
    "  return avals\r\n"
   ]
  },
  {
   "cell_type": "code",
   "execution_count": 75,
   "metadata": {},
   "outputs": [],
   "source": [
    "def are_row_col_major_same(fn_colmajor, fn_rowmajor, dims, tolerance = 1e-5):\r\n",
    "\r\n",
    "  avals_colmajor = from_file_to_array(fn_colmajor, dims, \"F\")\r\n",
    "  avals_rowmajor = from_file_to_array(fn_rowmajor, dims, \"C\")\r\n",
    "  \r\n",
    "  return np.allclose(avals_colmajor, avals_rowmajor, rtol=0, atol=tolerance)"
   ]
  },
  {
   "cell_type": "markdown",
   "metadata": {},
   "source": [
    "## Compare with tolerance"
   ]
  },
  {
   "cell_type": "code",
   "execution_count": 115,
   "metadata": {},
   "outputs": [
    {
     "data": {
      "text/plain": "True"
     },
     "execution_count": 115,
     "metadata": {},
     "output_type": "execute_result"
    }
   ],
   "source": [
    "\r\n",
    "tolerance = 1e-5\r\n",
    "are_row_col_major_same(fn_colmajor, fn_rowmajor, (2, 5, 2, 2), tolerance=tolerance)"
   ]
  },
  {
   "cell_type": "code",
   "execution_count": 117,
   "metadata": {},
   "outputs": [],
   "source": [
    "dims = (2, 5, 2, 2)\r\n",
    "avals_rowmajor = from_file_to_array(fn_rowmajor, dims, \"C\")\r\n",
    "avals_colmajor = from_file_to_array(fn_colmajor, dims, \"F\")\r\n"
   ]
  },
  {
   "cell_type": "code",
   "execution_count": null,
   "metadata": {},
   "outputs": [],
   "source": []
  }
 ],
 "metadata": {
  "kernelspec": {
   "display_name": "Python 3.8.5 64-bit ('eigensinn': conda)",
   "name": "python385jvsc74a57bd065e3d6ff91a275e814dea489810b7b532d308d30ffb2163137522335a08b3065"
  },
  "language_info": {
   "codemirror_mode": {
    "name": "ipython",
    "version": 3
   },
   "file_extension": ".py",
   "mimetype": "text/x-python",
   "name": "python",
   "nbconvert_exporter": "python",
   "pygments_lexer": "ipython3",
   "version": "3.8.5"
  },
  "orig_nbformat": 2
 },
 "nbformat": 4,
 "nbformat_minor": 2
}